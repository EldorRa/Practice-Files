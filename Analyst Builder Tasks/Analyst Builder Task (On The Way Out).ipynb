{
  "nbformat": 4,
  "nbformat_minor": 0,
  "metadata": {
    "colab": {
      "provenance": []
    },
    "kernelspec": {
      "name": "python3",
      "display_name": "Python 3"
    },
    "language_info": {
      "name": "python"
    }
  },
  "cells": [
    {
      "cell_type": "markdown",
      "source": [
        "**Analyst Builder (On The Way Out)**\n",
        "\n",
        "Task :\n",
        "Herschel's Manufacturing Plant has hit some hard times with the economy and unfortunately they need to let some people go.\n",
        "\n",
        "They figure the younger employees need their jobs more as they are growing families so they decide to let go of their 3 oldest employees. They have more experience and will be able to land on their feet easier (and they had to pay them more).\n",
        "\n",
        "Write a query to identify the ids of the three oldest employees.\n",
        "\n",
        "Order output from oldest to youngest."
      ],
      "metadata": {
        "id": "oLq_HpqWpVOk"
      }
    },
    {
      "cell_type": "code",
      "source": [
        "import pandas as pd;\n",
        "employees['birth_date'] = pd.to_datetime(employees['birth_date'])\n",
        "\n",
        "sorted = employees.sort_values(by = \"birth_date\", ascending = True)\n",
        "sorted[['employee_id']].head(3)"
      ],
      "metadata": {
        "id": "GIK6hsd9pw8o"
      },
      "execution_count": null,
      "outputs": []
    }
  ]
}