{
  "nbformat": 4,
  "nbformat_minor": 0,
  "metadata": {
    "colab": {
      "provenance": []
    },
    "kernelspec": {
      "name": "python3",
      "display_name": "Python 3"
    },
    "language_info": {
      "name": "python"
    }
  },
  "cells": [
    {
      "cell_type": "markdown",
      "source": [
        "**Analyst Builder Task 1**\n",
        "\n",
        "Task :\n",
        "Dr. Obrien has seen an uptick in heart attacks for his patients over the past few months. He has been noticing some trends across his patients and wants to get ahead of things by reaching out to current patients who are at a high risk of a heart attack.\n",
        "\n",
        "We need to identify which clients he needs to reach out to and provide that information to Dr. Obrien.\n",
        "\n",
        "If a patient is over the age of 50, cholesterol level of 240 or over, and weight 200 or greater, then they are at high risk of having a heart attack.\n",
        "\n",
        "Write a query to retrieve these patients. Include all columns in your output.\n",
        "\n",
        "As Cholesterol level is the largest indicator, order the output by Cholesterol from Highest to Lowest so he can reach out to them first.\n"
      ],
      "metadata": {
        "id": "oLq_HpqWpVOk"
      }
    },
    {
      "cell_type": "code",
      "source": [
        "# access datasets as pandas dataframes\n",
        "import pandas as pd;\n",
        "\n",
        "df = patients[(patients['age'] > 50) & (patients['cholesterol'] >= 240) & (patients['weight'] >= 200)]\n",
        "\n",
        "df_final = df.sort_values(by='cholesterol', ascending=False)\n",
        "\n",
        "df_final\n",
        "\n"
      ],
      "metadata": {
        "id": "GIK6hsd9pw8o"
      },
      "execution_count": null,
      "outputs": []
    }
  ]
}