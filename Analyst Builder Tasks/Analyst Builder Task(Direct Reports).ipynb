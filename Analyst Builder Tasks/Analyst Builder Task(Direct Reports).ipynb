{
  "nbformat": 4,
  "nbformat_minor": 0,
  "metadata": {
    "colab": {
      "provenance": []
    },
    "kernelspec": {
      "name": "python3",
      "display_name": "Python 3"
    },
    "language_info": {
      "name": "python"
    }
  },
  "cells": [
    {
      "cell_type": "code",
      "execution_count": null,
      "metadata": {
        "id": "A78lPTeofkxy"
      },
      "outputs": [],
      "source": [
        "import pandas as pd\n",
        "\n",
        "manager = direct_reports[direct_reports['position'].str.contains('Manager')]\n",
        "\n",
        "direct_reports = direct_reports.groupby('managers_id').size().reset_index(name='direct_reports')\n",
        "\n",
        "manager_reports = manager.merge(direct_reports, left_on='employee_id', right_on='managers_id', how='left')\n",
        "\n",
        "manager_reports[['employee_id', 'position', 'direct_reports']].rename(columns={'employee_id': 'manager_id', 'position': 'manager_position'})\n",
        "\n",
        "direct_reports.head()\n"
      ]
    }
  ]
}