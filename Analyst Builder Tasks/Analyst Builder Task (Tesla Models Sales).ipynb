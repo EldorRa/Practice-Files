{
  "nbformat": 4,
  "nbformat_minor": 0,
  "metadata": {
    "colab": {
      "provenance": []
    },
    "kernelspec": {
      "name": "python3",
      "display_name": "Python 3"
    },
    "language_info": {
      "name": "python"
    }
  },
  "cells": [
    {
      "cell_type": "code",
      "execution_count": 1,
      "metadata": {
        "id": "4uVooB4SRyGy"
      },
      "outputs": [],
      "source": [
        "import pandas as pd"
      ]
    },
    {
      "cell_type": "code",
      "source": [
        "tesla_data['profit'] = (tesla_data['car_price'] - tesla_data['production_cost']) * tesla_data['cars_sold']\n",
        "\n",
        "df = tesla_data.sort_values(by='profit', ascending=False)\n",
        "\n",
        "result = df.head()\n",
        "\n",
        "result"
      ],
      "metadata": {
        "id": "bHbyEYhTR4K2"
      },
      "execution_count": null,
      "outputs": []
    }
  ]
}